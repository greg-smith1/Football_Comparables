{
 "cells": [
  {
   "cell_type": "code",
   "execution_count": null,
   "metadata": {},
   "outputs": [],
   "source": [
    "# Make sure that the companion csv 'football_complete.csv' is in the SAME directory as this jupyter notebook\n",
    "# Look up the documentation for any of these functions you don't understand; all of them are extremely helpful\n",
    "# when looking at new data and trying to clean it up."
   ]
  },
  {
   "cell_type": "code",
   "execution_count": 1,
   "metadata": {},
   "outputs": [],
   "source": [
    "import pandas as pd\n",
    "import numpy as np\n",
    "import matplotlib.pyplot as plt"
   ]
  },
  {
   "cell_type": "code",
   "execution_count": 66,
   "metadata": {},
   "outputs": [],
   "source": [
    "df = pd.read_csv('../2017.csv')"
   ]
  },
  {
   "cell_type": "code",
   "execution_count": 47,
   "metadata": {},
   "outputs": [],
   "source": [
    "# Example for plotting a basic chart to visualize the data"
   ]
  },
  {
   "cell_type": "code",
   "execution_count": 48,
   "metadata": {},
   "outputs": [],
   "source": [
    "# Rushing attempts\n",
    "x = list(df['Att'])"
   ]
  },
  {
   "cell_type": "code",
   "execution_count": 49,
   "metadata": {},
   "outputs": [],
   "source": [
    "# Rushing yardage gained (total)\n",
    "y = list(df['Yds'])"
   ]
  },
  {
   "cell_type": "code",
   "execution_count": 52,
   "metadata": {},
   "outputs": [
    {
     "data": {
      "image/png": "[encoded data removed]",
      "text/plain": [
       "<matplotlib.figure.Figure at 0x11384d128>"
      ]
     },
     "metadata": {},
     "output_type": "display_data"
    }
   ],
   "source": [
    "# Correlation between rushing yards and rushing attempts\n",
    "plt.scatter(x, y)\n",
    "plt.xlabel('Rushing Attempts')\n",
    "plt.ylabel('Yards')\n",
    "plt.title('Rushing Yards vs Attempts')\n",
    "plt.show()\n",
    "# plt.savefig('inclass_qbs.png') would save our graph to a png file if we desired"
   ]
  },
  {
   "cell_type": "code",
   "execution_count": 67,
   "metadata": {},
   "outputs": [
    {
     "data": {
      "text/html": [
       "<div>\n",
       "<style scoped>\n",
       "    .dataframe tbody tr th:only-of-type {\n",
       "        vertical-align: middle;\n",
       "    }\n",
       "\n",
       "    .dataframe tbody tr th {\n",
       "        vertical-align: top;\n",
       "    }\n",
       "\n",
       "    .dataframe thead th {\n",
       "        text-align: right;\n",
       "    }\n",
       "</style>\n",
       "<table border=\"1\" class=\"dataframe\">\n",
       "  <thead>\n",
       "    <tr style=\"text-align: right;\">\n",
       "      <th></th>\n",
       "      <th>Rk</th>\n",
       "      <th>Unnamed: 1</th>\n",
       "      <th>Tm</th>\n",
       "      <th>Age</th>\n",
       "      <th>Pos</th>\n",
       "      <th>G</th>\n",
       "      <th>GS</th>\n",
       "      <th>Att</th>\n",
       "      <th>Yds</th>\n",
       "      <th>TD</th>\n",
       "      <th>...</th>\n",
       "      <th>TD.1</th>\n",
       "      <th>Lng.1</th>\n",
       "      <th>R/G</th>\n",
       "      <th>Y/G.1</th>\n",
       "      <th>Ctch%</th>\n",
       "      <th>Touch</th>\n",
       "      <th>Y/Tch</th>\n",
       "      <th>YScm</th>\n",
       "      <th>RRTD</th>\n",
       "      <th>Fmb</th>\n",
       "    </tr>\n",
       "  </thead>\n",
       "  <tbody>\n",
       "    <tr>\n",
       "      <th>0</th>\n",
       "      <td>1</td>\n",
       "      <td>Le'Veon Bell*+\\BellLe00</td>\n",
       "      <td>PIT</td>\n",
       "      <td>25</td>\n",
       "      <td>RB</td>\n",
       "      <td>15</td>\n",
       "      <td>15</td>\n",
       "      <td>321</td>\n",
       "      <td>1291</td>\n",
       "      <td>9</td>\n",
       "      <td>...</td>\n",
       "      <td>2.0</td>\n",
       "      <td>42.0</td>\n",
       "      <td>5.7</td>\n",
       "      <td>43.7</td>\n",
       "      <td>80.2%</td>\n",
       "      <td>406</td>\n",
       "      <td>4.8</td>\n",
       "      <td>1946</td>\n",
       "      <td>11</td>\n",
       "      <td>3</td>\n",
       "    </tr>\n",
       "    <tr>\n",
       "      <th>1</th>\n",
       "      <td>2</td>\n",
       "      <td>LeSean McCoy*\\McCoLe01</td>\n",
       "      <td>BUF</td>\n",
       "      <td>29</td>\n",
       "      <td>RB</td>\n",
       "      <td>16</td>\n",
       "      <td>16</td>\n",
       "      <td>287</td>\n",
       "      <td>1138</td>\n",
       "      <td>6</td>\n",
       "      <td>...</td>\n",
       "      <td>2.0</td>\n",
       "      <td>39.0</td>\n",
       "      <td>3.7</td>\n",
       "      <td>28.0</td>\n",
       "      <td>76.6%</td>\n",
       "      <td>346</td>\n",
       "      <td>4.6</td>\n",
       "      <td>1586</td>\n",
       "      <td>8</td>\n",
       "      <td>3</td>\n",
       "    </tr>\n",
       "  </tbody>\n",
       "</table>\n",
       "<p>2 rows × 28 columns</p>\n",
       "</div>"
      ],
      "text/plain": [
       "   Rk               Unnamed: 1   Tm  Age Pos   G  GS  Att   Yds  TD ...   \\\n",
       "0   1  Le'Veon Bell*+\\BellLe00  PIT   25  RB  15  15  321  1291   9 ...    \n",
       "1   2   LeSean McCoy*\\McCoLe01  BUF   29  RB  16  16  287  1138   6 ...    \n",
       "\n",
       "   TD.1  Lng.1  R/G  Y/G.1  Ctch%  Touch  Y/Tch  YScm  RRTD  Fmb  \n",
       "0   2.0   42.0  5.7   43.7  80.2%    406    4.8  1946    11    3  \n",
       "1   2.0   39.0  3.7   28.0  76.6%    346    4.6  1586     8    3  \n",
       "\n",
       "[2 rows x 28 columns]"
      ]
     },
     "execution_count": 67,
     "metadata": {},
     "output_type": "execute_result"
    }
   ],
   "source": [
    "df.head(2)"
   ]
  },
  {
   "cell_type": "code",
   "execution_count": 70,
   "metadata": {},
   "outputs": [
    {
     "data": {
      "text/plain": [
       "False"
      ]
     },
     "execution_count": 70,
     "metadata": {},
     "output_type": "execute_result"
    }
   ],
   "source": [
    "df.isnull().values.any()"
   ]
  },
  {
   "cell_type": "code",
   "execution_count": 69,
   "metadata": {},
   "outputs": [],
   "source": [
    "df = df.fillna(0)"
   ]
  },
  {
   "cell_type": "code",
   "execution_count": 71,
   "metadata": {},
   "outputs": [
    {
     "data": {
      "text/plain": [
       "['Rk',\n",
       " 'Unnamed: 1',\n",
       " 'Tm',\n",
       " 'Age',\n",
       " 'Pos',\n",
       " 'G',\n",
       " 'GS',\n",
       " 'Att',\n",
       " 'Yds',\n",
       " 'TD',\n",
       " 'Lng',\n",
       " 'Y/A',\n",
       " 'Y/G',\n",
       " 'A/G',\n",
       " 'Tgt',\n",
       " 'Rec',\n",
       " 'Yds.1',\n",
       " 'Y/R',\n",
       " 'TD.1',\n",
       " 'Lng.1',\n",
       " 'R/G',\n",
       " 'Y/G.1',\n",
       " 'Ctch%',\n",
       " 'Touch',\n",
       " 'Y/Tch',\n",
       " 'YScm',\n",
       " 'RRTD',\n",
       " 'Fmb']"
      ]
     },
     "execution_count": 71,
     "metadata": {},
     "output_type": "execute_result"
    }
   ],
   "source": [
    "df.columns.tolist()"
   ]
  },
  {
   "cell_type": "code",
   "execution_count": 73,
   "metadata": {},
   "outputs": [],
   "source": [
    "df = df.sort_values(by=['Yds', 'RRTD', 'Age'], ascending=False)"
   ]
  },
  {
   "cell_type": "code",
   "execution_count": 74,
   "metadata": {},
   "outputs": [
    {
     "data": {
      "text/html": [
       "<div>\n",
       "<style scoped>\n",
       "    .dataframe tbody tr th:only-of-type {\n",
       "        vertical-align: middle;\n",
       "    }\n",
       "\n",
       "    .dataframe tbody tr th {\n",
       "        vertical-align: top;\n",
       "    }\n",
       "\n",
       "    .dataframe thead th {\n",
       "        text-align: right;\n",
       "    }\n",
       "</style>\n",
       "<table border=\"1\" class=\"dataframe\">\n",
       "  <thead>\n",
       "    <tr style=\"text-align: right;\">\n",
       "      <th></th>\n",
       "      <th>Rk</th>\n",
       "      <th>Unnamed: 1</th>\n",
       "      <th>Tm</th>\n",
       "      <th>Age</th>\n",
       "      <th>Pos</th>\n",
       "      <th>G</th>\n",
       "      <th>GS</th>\n",
       "      <th>Att</th>\n",
       "      <th>Yds</th>\n",
       "      <th>TD</th>\n",
       "      <th>...</th>\n",
       "      <th>TD.1</th>\n",
       "      <th>Lng.1</th>\n",
       "      <th>R/G</th>\n",
       "      <th>Y/G.1</th>\n",
       "      <th>Ctch%</th>\n",
       "      <th>Touch</th>\n",
       "      <th>Y/Tch</th>\n",
       "      <th>YScm</th>\n",
       "      <th>RRTD</th>\n",
       "      <th>Fmb</th>\n",
       "    </tr>\n",
       "  </thead>\n",
       "  <tbody>\n",
       "    <tr>\n",
       "      <th>5</th>\n",
       "      <td>6</td>\n",
       "      <td>Kareem Hunt*\\HuntKa00</td>\n",
       "      <td>KAN</td>\n",
       "      <td>22</td>\n",
       "      <td>RB</td>\n",
       "      <td>16</td>\n",
       "      <td>16</td>\n",
       "      <td>272</td>\n",
       "      <td>1327</td>\n",
       "      <td>8</td>\n",
       "      <td>...</td>\n",
       "      <td>3.0</td>\n",
       "      <td>78.0</td>\n",
       "      <td>3.3</td>\n",
       "      <td>28.4</td>\n",
       "      <td>84.1%</td>\n",
       "      <td>325</td>\n",
       "      <td>5.5</td>\n",
       "      <td>1782</td>\n",
       "      <td>11</td>\n",
       "      <td>1</td>\n",
       "    </tr>\n",
       "    <tr>\n",
       "      <th>6</th>\n",
       "      <td>7</td>\n",
       "      <td>Leonard Fournette\\FourLe00</td>\n",
       "      <td>JAX</td>\n",
       "      <td>22</td>\n",
       "      <td>RB</td>\n",
       "      <td>13</td>\n",
       "      <td>13</td>\n",
       "      <td>268</td>\n",
       "      <td>1040</td>\n",
       "      <td>9</td>\n",
       "      <td>...</td>\n",
       "      <td>1.0</td>\n",
       "      <td>28.0</td>\n",
       "      <td>2.8</td>\n",
       "      <td>23.2</td>\n",
       "      <td>75.0%</td>\n",
       "      <td>304</td>\n",
       "      <td>4.4</td>\n",
       "      <td>1342</td>\n",
       "      <td>10</td>\n",
       "      <td>2</td>\n",
       "    </tr>\n",
       "  </tbody>\n",
       "</table>\n",
       "<p>2 rows × 28 columns</p>\n",
       "</div>"
      ],
      "text/plain": [
       "   Rk                  Unnamed: 1   Tm  Age Pos   G  GS  Att   Yds  TD ...   \\\n",
       "5   6       Kareem Hunt*\\HuntKa00  KAN   22  RB  16  16  272  1327   8 ...    \n",
       "6   7  Leonard Fournette\\FourLe00  JAX   22  RB  13  13  268  1040   9 ...    \n",
       "\n",
       "   TD.1  Lng.1  R/G  Y/G.1  Ctch%  Touch  Y/Tch  YScm  RRTD  Fmb  \n",
       "5   3.0   78.0  3.3   28.4  84.1%    325    5.5  1782    11    1  \n",
       "6   1.0   28.0  2.8   23.2  75.0%    304    4.4  1342    10    2  \n",
       "\n",
       "[2 rows x 28 columns]"
      ]
     },
     "execution_count": 74,
     "metadata": {},
     "output_type": "execute_result"
    }
   ],
   "source": [
    "age_22 = df.loc[(df['Age']==22) & (df['GS']>9)]\n",
    "age_22.head(2)"
   ]
  },
  {
   "cell_type": "code",
   "execution_count": 75,
   "metadata": {},
   "outputs": [],
   "source": [
    "df['t_pts'] = (df['Rec'] + df['RRTD']*6 + df['YScm']*.1)\n",
    "df['f_ppg'] = (df['t_pts']/df['G']).round(1)"
   ]
  },
  {
   "cell_type": "code",
   "execution_count": 76,
   "metadata": {},
   "outputs": [
    {
     "data": {
      "text/html": [
       "<div>\n",
       "<style scoped>\n",
       "    .dataframe tbody tr th:only-of-type {\n",
       "        vertical-align: middle;\n",
       "    }\n",
       "\n",
       "    .dataframe tbody tr th {\n",
       "        vertical-align: top;\n",
       "    }\n",
       "\n",
       "    .dataframe thead th {\n",
       "        text-align: right;\n",
       "    }\n",
       "</style>\n",
       "<table border=\"1\" class=\"dataframe\">\n",
       "  <thead>\n",
       "    <tr style=\"text-align: right;\">\n",
       "      <th></th>\n",
       "      <th>Rk</th>\n",
       "      <th>Unnamed: 1</th>\n",
       "      <th>Tm</th>\n",
       "      <th>Age</th>\n",
       "      <th>Pos</th>\n",
       "      <th>G</th>\n",
       "      <th>GS</th>\n",
       "      <th>Att</th>\n",
       "      <th>Yds</th>\n",
       "      <th>TD</th>\n",
       "      <th>...</th>\n",
       "      <th>R/G</th>\n",
       "      <th>Y/G.1</th>\n",
       "      <th>Ctch%</th>\n",
       "      <th>Touch</th>\n",
       "      <th>Y/Tch</th>\n",
       "      <th>YScm</th>\n",
       "      <th>RRTD</th>\n",
       "      <th>Fmb</th>\n",
       "      <th>t_pts</th>\n",
       "      <th>f_ppg</th>\n",
       "    </tr>\n",
       "  </thead>\n",
       "  <tbody>\n",
       "    <tr>\n",
       "      <th>5</th>\n",
       "      <td>6</td>\n",
       "      <td>Kareem Hunt*\\HuntKa00</td>\n",
       "      <td>KAN</td>\n",
       "      <td>22</td>\n",
       "      <td>RB</td>\n",
       "      <td>16</td>\n",
       "      <td>16</td>\n",
       "      <td>272</td>\n",
       "      <td>1327</td>\n",
       "      <td>8</td>\n",
       "      <td>...</td>\n",
       "      <td>3.3</td>\n",
       "      <td>28.4</td>\n",
       "      <td>84.1%</td>\n",
       "      <td>325</td>\n",
       "      <td>5.5</td>\n",
       "      <td>1782</td>\n",
       "      <td>11</td>\n",
       "      <td>1</td>\n",
       "      <td>297.2</td>\n",
       "      <td>18.6</td>\n",
       "    </tr>\n",
       "    <tr>\n",
       "      <th>3</th>\n",
       "      <td>4</td>\n",
       "      <td>Todd Gurley*+\\GurlTo01</td>\n",
       "      <td>LAR</td>\n",
       "      <td>23</td>\n",
       "      <td>RB</td>\n",
       "      <td>15</td>\n",
       "      <td>15</td>\n",
       "      <td>279</td>\n",
       "      <td>1305</td>\n",
       "      <td>13</td>\n",
       "      <td>...</td>\n",
       "      <td>4.3</td>\n",
       "      <td>52.5</td>\n",
       "      <td>73.6%</td>\n",
       "      <td>343</td>\n",
       "      <td>6.1</td>\n",
       "      <td>2093</td>\n",
       "      <td>19</td>\n",
       "      <td>5</td>\n",
       "      <td>387.3</td>\n",
       "      <td>25.8</td>\n",
       "    </tr>\n",
       "  </tbody>\n",
       "</table>\n",
       "<p>2 rows × 30 columns</p>\n",
       "</div>"
      ],
      "text/plain": [
       "   Rk              Unnamed: 1   Tm  Age Pos   G  GS  Att   Yds  TD  ...    \\\n",
       "5   6   Kareem Hunt*\\HuntKa00  KAN   22  RB  16  16  272  1327   8  ...     \n",
       "3   4  Todd Gurley*+\\GurlTo01  LAR   23  RB  15  15  279  1305  13  ...     \n",
       "\n",
       "   R/G  Y/G.1  Ctch%  Touch  Y/Tch  YScm  RRTD  Fmb  t_pts  f_ppg  \n",
       "5  3.3   28.4  84.1%    325    5.5  1782    11    1  297.2   18.6  \n",
       "3  4.3   52.5  73.6%    343    6.1  2093    19    5  387.3   25.8  \n",
       "\n",
       "[2 rows x 30 columns]"
      ]
     },
     "execution_count": 76,
     "metadata": {},
     "output_type": "execute_result"
    }
   ],
   "source": [
    "df.head(2)"
   ]
  },
  {
   "cell_type": "code",
   "execution_count": 44,
   "metadata": {},
   "outputs": [],
   "source": [
    "# TODO: Use df.apply() on our df so that our names column \n",
    "# (df['Unnamed: 1']) looks human-readable like 'Firstname Lastname'"
   ]
  },
  {
   "cell_type": "code",
   "execution_count": 45,
   "metadata": {},
   "outputs": [],
   "source": [
    "# TODO: Set the names column as our index, rather than these arbitrary integers"
   ]
  },
  {
   "cell_type": "code",
   "execution_count": 46,
   "metadata": {},
   "outputs": [],
   "source": [
    "# TODO: Make sure all of our data is numerical (type == float or int). This may mean\n",
    "# dropping some columns, and our 'Ctch%' is also currently a str instead of float"
   ]
  },
  {
   "cell_type": "code",
   "execution_count": null,
   "metadata": {},
   "outputs": [],
   "source": [
    "# To make comparisons, we will have a separate df of all players from 2017 that we can pull data from.\n",
    "# We will then use that data (a row) to generate similarities based on cosines from our larger matrix\n",
    "# All the linear algebra will actually be computed using the scikit-learn library along with pandas.\n",
    "# We'll write a module for that later in the week once our data is ready for analysis."
   ]
  },
  {
   "cell_type": "code",
   "execution_count": 77,
   "metadata": {},
   "outputs": [],
   "source": [
    "df = df.drop('Pos', axis = 1)\n",
    "df = df.drop('Tm', axis = 1)\n",
    "df = df.drop('Rk', axis = 1)"
   ]
  },
  {
   "cell_type": "code",
   "execution_count": 82,
   "metadata": {},
   "outputs": [
    {
     "data": {
      "text/plain": [
       "Index(['Age', 'G', 'GS', 'Att', 'Yds', 'TD', 'Lng', 'Y/A', 'Y/G', 'A/G', 'Tgt',\n",
       "       'Rec', 'Yds.1', 'Y/R', 'TD.1', 'Lng.1', 'R/G', 'Y/G.1', 'Ctch%',\n",
       "       'Touch', 'Y/Tch', 'YScm', 'RRTD', 'Fmb', 't_pts', 'f_ppg'],\n",
       "      dtype='object')"
      ]
     },
     "execution_count": 82,
     "metadata": {},
     "output_type": "execute_result"
    }
   ],
   "source": [
    "df.columns"
   ]
  },
  {
   "cell_type": "code",
   "execution_count": 80,
   "metadata": {},
   "outputs": [],
   "source": [
    "def name_split(name):\n",
    "    name = name.split('\\\\')[0]\n",
    "    return name\n",
    "\n",
    "df['Unnamed: 1'] = df.apply(lambda row: name_split(row['Unnamed: 1']), axis=1)\n",
    "\n",
    "\n",
    "def name_strip(name):\n",
    "    name = name.strip('*+\\\\')\n",
    "    return name\n",
    "\n",
    "df['Unnamed: 1'] = df.apply(lambda row: name_strip(row['Unnamed: 1']), axis=1)"
   ]
  },
  {
   "cell_type": "code",
   "execution_count": 81,
   "metadata": {},
   "outputs": [],
   "source": [
    "df = df.set_index('Unnamed: 1')"
   ]
  },
  {
   "cell_type": "code",
   "execution_count": 86,
   "metadata": {},
   "outputs": [],
   "source": [
    "df.to_csv('football_lookup.csv')"
   ]
  },
  {
   "cell_type": "code",
   "execution_count": 84,
   "metadata": {},
   "outputs": [],
   "source": [
    "def catch_to_float(name):\n",
    "    if type(name)==str:\n",
    "        name =name.strip('%')\n",
    "    name = float(name)\n",
    "    return name\n",
    "df['Ctch%'] = df.apply(lambda row: catch_to_float(row['Ctch%']), axis=1)"
   ]
  },
  {
   "cell_type": "code",
   "execution_count": 85,
   "metadata": {},
   "outputs": [
    {
     "data": {
      "text/html": [
       "<div>\n",
       "<style scoped>\n",
       "    .dataframe tbody tr th:only-of-type {\n",
       "        vertical-align: middle;\n",
       "    }\n",
       "\n",
       "    .dataframe tbody tr th {\n",
       "        vertical-align: top;\n",
       "    }\n",
       "\n",
       "    .dataframe thead th {\n",
       "        text-align: right;\n",
       "    }\n",
       "</style>\n",
       "<table border=\"1\" class=\"dataframe\">\n",
       "  <thead>\n",
       "    <tr style=\"text-align: right;\">\n",
       "      <th></th>\n",
       "      <th>Age</th>\n",
       "      <th>G</th>\n",
       "      <th>GS</th>\n",
       "      <th>Att</th>\n",
       "      <th>Yds</th>\n",
       "      <th>TD</th>\n",
       "      <th>Lng</th>\n",
       "      <th>Y/A</th>\n",
       "      <th>Y/G</th>\n",
       "      <th>A/G</th>\n",
       "      <th>...</th>\n",
       "      <th>R/G</th>\n",
       "      <th>Y/G.1</th>\n",
       "      <th>Ctch%</th>\n",
       "      <th>Touch</th>\n",
       "      <th>Y/Tch</th>\n",
       "      <th>YScm</th>\n",
       "      <th>RRTD</th>\n",
       "      <th>Fmb</th>\n",
       "      <th>t_pts</th>\n",
       "      <th>f_ppg</th>\n",
       "    </tr>\n",
       "    <tr>\n",
       "      <th>Unnamed: 1</th>\n",
       "      <th></th>\n",
       "      <th></th>\n",
       "      <th></th>\n",
       "      <th></th>\n",
       "      <th></th>\n",
       "      <th></th>\n",
       "      <th></th>\n",
       "      <th></th>\n",
       "      <th></th>\n",
       "      <th></th>\n",
       "      <th></th>\n",
       "      <th></th>\n",
       "      <th></th>\n",
       "      <th></th>\n",
       "      <th></th>\n",
       "      <th></th>\n",
       "      <th></th>\n",
       "      <th></th>\n",
       "      <th></th>\n",
       "      <th></th>\n",
       "      <th></th>\n",
       "    </tr>\n",
       "  </thead>\n",
       "  <tbody>\n",
       "    <tr>\n",
       "      <th>Kareem Hunt</th>\n",
       "      <td>22</td>\n",
       "      <td>16</td>\n",
       "      <td>16</td>\n",
       "      <td>272</td>\n",
       "      <td>1327</td>\n",
       "      <td>8</td>\n",
       "      <td>69</td>\n",
       "      <td>4.9</td>\n",
       "      <td>82.9</td>\n",
       "      <td>17.0</td>\n",
       "      <td>...</td>\n",
       "      <td>3.3</td>\n",
       "      <td>28.4</td>\n",
       "      <td>84.1</td>\n",
       "      <td>325</td>\n",
       "      <td>5.5</td>\n",
       "      <td>1782</td>\n",
       "      <td>11</td>\n",
       "      <td>1</td>\n",
       "      <td>297.2</td>\n",
       "      <td>18.6</td>\n",
       "    </tr>\n",
       "    <tr>\n",
       "      <th>Todd Gurley</th>\n",
       "      <td>23</td>\n",
       "      <td>15</td>\n",
       "      <td>15</td>\n",
       "      <td>279</td>\n",
       "      <td>1305</td>\n",
       "      <td>13</td>\n",
       "      <td>57</td>\n",
       "      <td>4.7</td>\n",
       "      <td>87.0</td>\n",
       "      <td>18.6</td>\n",
       "      <td>...</td>\n",
       "      <td>4.3</td>\n",
       "      <td>52.5</td>\n",
       "      <td>73.6</td>\n",
       "      <td>343</td>\n",
       "      <td>6.1</td>\n",
       "      <td>2093</td>\n",
       "      <td>19</td>\n",
       "      <td>5</td>\n",
       "      <td>387.3</td>\n",
       "      <td>25.8</td>\n",
       "    </tr>\n",
       "    <tr>\n",
       "      <th>Le'Veon Bell</th>\n",
       "      <td>25</td>\n",
       "      <td>15</td>\n",
       "      <td>15</td>\n",
       "      <td>321</td>\n",
       "      <td>1291</td>\n",
       "      <td>9</td>\n",
       "      <td>27</td>\n",
       "      <td>4.0</td>\n",
       "      <td>86.1</td>\n",
       "      <td>21.4</td>\n",
       "      <td>...</td>\n",
       "      <td>5.7</td>\n",
       "      <td>43.7</td>\n",
       "      <td>80.2</td>\n",
       "      <td>406</td>\n",
       "      <td>4.8</td>\n",
       "      <td>1946</td>\n",
       "      <td>11</td>\n",
       "      <td>3</td>\n",
       "      <td>345.6</td>\n",
       "      <td>23.0</td>\n",
       "    </tr>\n",
       "    <tr>\n",
       "      <th>LeSean McCoy</th>\n",
       "      <td>29</td>\n",
       "      <td>16</td>\n",
       "      <td>16</td>\n",
       "      <td>287</td>\n",
       "      <td>1138</td>\n",
       "      <td>6</td>\n",
       "      <td>48</td>\n",
       "      <td>4.0</td>\n",
       "      <td>71.1</td>\n",
       "      <td>17.9</td>\n",
       "      <td>...</td>\n",
       "      <td>3.7</td>\n",
       "      <td>28.0</td>\n",
       "      <td>76.6</td>\n",
       "      <td>346</td>\n",
       "      <td>4.6</td>\n",
       "      <td>1586</td>\n",
       "      <td>8</td>\n",
       "      <td>3</td>\n",
       "      <td>265.6</td>\n",
       "      <td>16.6</td>\n",
       "    </tr>\n",
       "    <tr>\n",
       "      <th>Mark Ingram</th>\n",
       "      <td>28</td>\n",
       "      <td>16</td>\n",
       "      <td>13</td>\n",
       "      <td>230</td>\n",
       "      <td>1124</td>\n",
       "      <td>12</td>\n",
       "      <td>72</td>\n",
       "      <td>4.9</td>\n",
       "      <td>70.3</td>\n",
       "      <td>14.4</td>\n",
       "      <td>...</td>\n",
       "      <td>3.6</td>\n",
       "      <td>26.0</td>\n",
       "      <td>81.7</td>\n",
       "      <td>288</td>\n",
       "      <td>5.3</td>\n",
       "      <td>1540</td>\n",
       "      <td>12</td>\n",
       "      <td>3</td>\n",
       "      <td>284.0</td>\n",
       "      <td>17.8</td>\n",
       "    </tr>\n",
       "  </tbody>\n",
       "</table>\n",
       "<p>5 rows × 26 columns</p>\n",
       "</div>"
      ],
      "text/plain": [
       "              Age   G  GS  Att   Yds  TD  Lng  Y/A   Y/G   A/G  ...    R/G  \\\n",
       "Unnamed: 1                                                      ...          \n",
       "Kareem Hunt    22  16  16  272  1327   8   69  4.9  82.9  17.0  ...    3.3   \n",
       "Todd Gurley    23  15  15  279  1305  13   57  4.7  87.0  18.6  ...    4.3   \n",
       "Le'Veon Bell   25  15  15  321  1291   9   27  4.0  86.1  21.4  ...    5.7   \n",
       "LeSean McCoy   29  16  16  287  1138   6   48  4.0  71.1  17.9  ...    3.7   \n",
       "Mark Ingram    28  16  13  230  1124  12   72  4.9  70.3  14.4  ...    3.6   \n",
       "\n",
       "              Y/G.1  Ctch%  Touch  Y/Tch  YScm  RRTD  Fmb  t_pts  f_ppg  \n",
       "Unnamed: 1                                                               \n",
       "Kareem Hunt    28.4   84.1    325    5.5  1782    11    1  297.2   18.6  \n",
       "Todd Gurley    52.5   73.6    343    6.1  2093    19    5  387.3   25.8  \n",
       "Le'Veon Bell   43.7   80.2    406    4.8  1946    11    3  345.6   23.0  \n",
       "LeSean McCoy   28.0   76.6    346    4.6  1586     8    3  265.6   16.6  \n",
       "Mark Ingram    26.0   81.7    288    5.3  1540    12    3  284.0   17.8  \n",
       "\n",
       "[5 rows x 26 columns]"
      ]
     },
     "execution_count": 85,
     "metadata": {},
     "output_type": "execute_result"
    }
   ],
   "source": [
    "df.head()"
   ]
  },
  {
   "cell_type": "code",
   "execution_count": null,
   "metadata": {},
   "outputs": [],
   "source": []
  }
 ],
 "metadata": {
  "kernelspec": {
   "display_name": "Python 3",
   "language": "python",
   "name": "python3"
  },
  "language_info": {
   "codemirror_mode": {
    "name": "ipython",
    "version": 3
   },
   "file_extension": ".py",
   "mimetype": "text/x-python",
   "name": "python",
   "nbconvert_exporter": "python",
   "pygments_lexer": "ipython3",
   "version": "3.6.4"
  }
 },
 "nbformat": 4,
 "nbformat_minor": 2
}
